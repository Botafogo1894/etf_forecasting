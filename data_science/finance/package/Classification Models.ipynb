{
 "cells": [
  {
   "cell_type": "code",
   "execution_count": 88,
   "metadata": {},
   "outputs": [],
   "source": [
    "from datetime import datetime\n",
    "import pandas as pd\n",
    "from pandas import Series\n",
    "import numpy as np\n",
    "import matplotlib.pyplot as plt\n",
    "from iexfinance import get_historical_data\n",
    "from sklearn.ensemble import RandomForestClassifier\n",
    "from sklearn.model_selection import GridSearchCV\n",
    "from sklearn.metrics import accuracy_score, precision_score, roc_auc_score, f1_score, confusion_matrix, r2_score\n",
    "from sklearn.svm import SVC\n",
    "import itertools"
   ]
  },
  {
   "cell_type": "markdown",
   "metadata": {},
   "source": [
    "## Get Data, Clean, Prepare"
   ]
  },
  {
   "cell_type": "code",
   "execution_count": 89,
   "metadata": {},
   "outputs": [],
   "source": [
    "def get_iex_data(stock_list, start=datetime(2013,9,1), end=datetime(2018,9,26)):\n",
    "    return_list = []\n",
    "    for i in stock_list:\n",
    "        df = pd.DataFrame(get_historical_data(i, start, end, output_format='pandas')).interpolate()\n",
    "        df['ticker'] = i\n",
    "        return_list.append(df)\n",
    "    return return_list"
   ]
  },
  {
   "cell_type": "code",
   "execution_count": 90,
   "metadata": {},
   "outputs": [],
   "source": [
    "hun_etfs = ['SPY','IVV','VTI','VOO','QQQ','VEA','EFA','IEFA','VWO','AGG','IJH','IEMG','IWM','IJR','VTV','IWF','IWD','VUG','BND','LQD','XLF','VNQ','VIG','EEM','GLD','VB','BSV','VO','TIP','VEU','IVW','DIA','XLK','VYM','VGT','VCSH','MDY','IWB','VCIT','XLV','IWR','XLE','DVY','USMV','EWJ','VGK','PFF','SCHF','SDY','RSP','XLY','ITOT','IVE','SCHX','HYG','SHV','VBR','EMB','SHY','VV','SCHB','XLI','BIV','VT','MBB','BNDX','IWS','VXUS','FLOT','IWO','IXUS','MINT','SCZ','MTUM','IWN','IAU','IGSB','TLT','JNK','AMLP','VOE','XLP','MUB','IWP','VBK','FDN','EZU','IBB','IEF','IWV','ACWI','EFAV','VHT','SCHA','VFH','SCHD','GDX','IJK','SPLV','BKLN']\n",
    "preprocessed_data = get_iex_data(hun_etfs)"
   ]
  },
  {
   "cell_type": "code",
   "execution_count": 91,
   "metadata": {
    "scrolled": true
   },
   "outputs": [],
   "source": [
    "def clean_data(data):\n",
    "    for i in range(len(data)):\n",
    "        data[i] = data[i].reset_index()\n",
    "        data[i]['date'] = pd.to_datetime(data[i]['date'])\n",
    "        data[i] = data[i].set_index('date')\n",
    "        data[i]['Clf_Target'] = (np.sign(-data[i]['close'].diff(periods=-1))+1)/2\n",
    "    return data\n",
    "\n",
    "def add_past(etf_list, window):\n",
    "    for i in range(len(etf_list)):\n",
    "        for n in range(1,window+1):\n",
    "            etf_list[i]['{}day_change'.format(n)] = -etf_list[i]['close'].diff(periods=n)\n",
    "    return etf_list\n",
    "\n",
    "def RSI(series, period):\n",
    "    delta = series.diff().dropna()\n",
    "    u = delta * 0\n",
    "    d = u.copy()\n",
    "    u[delta > 0] = delta[delta > 0]\n",
    "    d[delta < 0] = -delta[delta < 0]\n",
    "    u[u.index[period-1]] = np.mean( u[:period] )\n",
    "    u = u.drop(u.index[:(period-1)])\n",
    "    d[d.index[period-1]] = np.mean( d[:period] )\n",
    "    d = d.drop(d.index[:(period-1)])\n",
    "    rs = Series.ewm(u, com=period-1, adjust=False).mean() / \\\n",
    "    Series.ewm(d, com=period-1, adjust=False).mean()\n",
    "    return 100 - 100 / (1 + rs)\n",
    "\n",
    "def add_indicators(etf_list):\n",
    "    for i in range(len(etf_list)):\n",
    "        etf_list[i]['ewma7'] = etf_list[i]['close'].ewm(span=7,min_periods=0,adjust=True,ignore_na=False).mean()\n",
    "        etf_list[i]['ewma50'] = etf_list[i]['close'].ewm(span=50,min_periods=0,adjust=True,ignore_na=False).mean()\n",
    "        etf_list[i]['ewma200'] = etf_list[i]['close'].ewm(span=200,min_periods=0,adjust=True,ignore_na=False).mean()\n",
    "        etf_list[i]['MACD'] = (etf_list[i]['close'].ewm(span=12,min_periods=0,adjust=True,ignore_na=False).mean() - \\\n",
    "                               etf_list[i]['close'].ewm(span=26,min_periods=0,adjust=True,ignore_na=False).mean())\n",
    "        etf_list[i]['RSI'] = RSI(etf_list[i]['close'], 14)\n",
    "    return etf_list"
   ]
  },
  {
   "cell_type": "code",
   "execution_count": 92,
   "metadata": {},
   "outputs": [],
   "source": [
    "def save_metrics(y_true, y_pred, ticker):\n",
    "    accuracy = accuracy_score(y_true, y_pred)\n",
    "    precision = precision_score(y_true, y_pred)\n",
    "    f1 = f1_score(y_true, y_pred)\n",
    "    roc = roc_auc_score(y_true, y_pred)\n",
    "    r2 = r2_score(y_true, y_pred)\n",
    "    conf = confusion_matrix(y_true, y_pred)\n",
    "    return {'Ticker':ticker,'Accuracy':accuracy,'Precision':precision,'F1':f1,'ROC AUC':roc,'R2':r2,'conf':conf}\n",
    "\n",
    "def plot_confusion_matrix(cm, classes, normalize=False, title='Confusion matrix', cmap=plt.cm.Blues):\n",
    "    if normalize:\n",
    "        cm = cm.astype('float') / cm.sum(axis=1)[:, np.newaxis]\n",
    "    plt.imshow(cm, interpolation='nearest', cmap=cmap)\n",
    "    plt.title(title)\n",
    "    plt.colorbar()\n",
    "    tick_marks = np.arange(len(classes))\n",
    "    plt.xticks(tick_marks, classes, rotation=45)\n",
    "    plt.yticks(tick_marks, classes)\n",
    "    fmt = '.2f' if normalize else 'd'\n",
    "    thresh = cm.max() / 2.\n",
    "    for i, j in itertools.product(range(cm.shape[0]), range(cm.shape[1])):\n",
    "        plt.text(j, i, format(cm[i, j], fmt),\n",
    "                 horizontalalignment=\"center\",\n",
    "                 color=\"white\" if cm[i, j] > thresh else \"black\")\n",
    "    plt.ylabel('True label')\n",
    "    plt.xlabel('Predicted label')\n",
    "    plt.tight_layout()\n",
    "\n",
    "def produce_confs(results):\n",
    "    plt.figure()    \n",
    "    for i in rf:\n",
    "        plot_confusion_matrix(i['conf'], classes =['sell', 'buy'], title=i['Ticker'])\n",
    "        plt.show()"
   ]
  },
  {
   "cell_type": "code",
   "execution_count": 93,
   "metadata": {},
   "outputs": [],
   "source": [
    "def time_test_split(X, y, date):\n",
    "    X_train = X[X['date'] < date].drop(columns='date')\n",
    "    X_test = X[X['date'] >= date].drop(columns='date')\n",
    "    y_train = np.array(y[y['date'] < date].drop(columns='date')).ravel().astype('int')\n",
    "    y_test = np.array(y[y['date'] >= date].drop(columns='date')).ravel().astype('int')\n",
    "    return X_train, X_test, y_train, y_test\n",
    "\n",
    "def plant_forests(df_list, split_date):\n",
    "    results = []\n",
    "    for i in range(len(df_list)):\n",
    "        ticker = df_list[i]['ticker'].iloc[0]\n",
    "        X = df_list[i][15:-1].reset_index().drop(columns=['ticker','open', 'Clf_Target'])\n",
    "        y = df_list[i][15:-1]['Clf_Target'].reset_index()\n",
    "        X_train, X_test, y_train, y_test = time_test_split(X, y, split_date)\n",
    "        clf = RandomForestClassifier(n_estimators=100)\n",
    "        clf.fit(X_train, y_train)\n",
    "        y_pred = clf.predict(X_test)\n",
    "        results.append(save_metrics(y_test, y_pred, ticker))\n",
    "    print ('Mean Accuracy: {}'.format(np.mean([i['Accuracy'] for i in results])))\n",
    "    print ('Mean Precision: {}'.format(np.mean([i['Precision'] for i in results])))\n",
    "    print ('Mean R2: {}'.format(np.mean([i['R2'] for i in results])))\n",
    "    return results\n",
    "\n",
    "def construct_SVMS(df_list, split_date):\n",
    "    results = []\n",
    "    for i in range(len(df_list)):\n",
    "        ticker = df_list[i]['ticker'].iloc[0]\n",
    "        X = df_list[i][15:-1].reset_index().drop(columns=['ticker','open', 'Clf_Target'])\n",
    "        y = df_list[i][15:-1]['Clf_Target'].reset_index()\n",
    "        X_train, X_test, y_train, y_test = time_test_split(X, y, split_date)\n",
    "        clf = SVC()\n",
    "        clf.fit(X_train, y_train)\n",
    "        y_pred = clf.predict(X_test)\n",
    "        results.append(save_metrics(y_test, y_pred, ticker))\n",
    "    print ('Mean Accuracy: {}'.format(np.mean([i['Accuracy'] for i in results])))\n",
    "    print ('Mean Precision: {}'.format(np.mean([i['Precision'] for i in results])))\n",
    "    print ('Mean R2: {}'.format(np.mean([i['R2'] for i in results])))\n",
    "    return results"
   ]
  },
  {
   "cell_type": "code",
   "execution_count": 94,
   "metadata": {},
   "outputs": [],
   "source": [
    "def run_models(window):\n",
    "    data = clean_data(preprocessed_data)\n",
    "    data = add_past(data, window)\n",
    "    data = add_indicators(data)\n",
    "    rf_results = plant_forests(data, '2018-02')\n",
    "    svm_results = construct_SVMS(data, '2018-02')\n",
    "    return rf_results, svm_results"
   ]
  },
  {
   "cell_type": "code",
   "execution_count": 95,
   "metadata": {},
   "outputs": [
    {
     "name": "stdout",
     "output_type": "stream",
     "text": [
      "Mean Accuracy: 0.5215243902439025\n",
      "Mean Precision: 0.5513413821929483\n",
      "Mean R2: -0.9372791699322457\n"
     ]
    },
    {
     "name": "stderr",
     "output_type": "stream",
     "text": [
      "/anaconda3/lib/python3.6/site-packages/sklearn/metrics/classification.py:1135: UndefinedMetricWarning: Precision is ill-defined and being set to 0.0 due to no predicted samples.\n",
      "  'precision', 'predicted', average, warn_for)\n",
      "/anaconda3/lib/python3.6/site-packages/sklearn/metrics/classification.py:1135: UndefinedMetricWarning: F-score is ill-defined and being set to 0.0 due to no predicted samples.\n",
      "  'precision', 'predicted', average, warn_for)\n"
     ]
    },
    {
     "name": "stdout",
     "output_type": "stream",
     "text": [
      "Mean Accuracy: 0.54\n",
      "Mean Precision: 0.5035365853658537\n",
      "Mean R2: -0.8616067382541058\n"
     ]
    }
   ],
   "source": [
    "rf, svm = run_models(1)"
   ]
  },
  {
   "cell_type": "code",
   "execution_count": null,
   "metadata": {},
   "outputs": [],
   "source": [
    "# Finish Gridsearch\n",
    "# X = data[10][15:-1].reset_index().drop(columns=['ticker','open', 'Clf_Target'])\n",
    "# y = data[10][15:-1]['Clf_Target'].reset_index()\n",
    "# X_train, X_test, y_train, y_test = time_test_split(X, y, '2018-02')\n",
    "# parameters = {'kernel': ['linear', 'rbf'], 'C':[1, 35, 55, 78, 100]}\n",
    "# svc = SVC()\n",
    "# clf = GridSearchCV(svc, parameters)\n",
    "# clf.fit(X_train, y_train)\n",
    "# clf.best_params_"
   ]
  }
 ],
 "metadata": {
  "kernelspec": {
   "display_name": "Python 3",
   "language": "python",
   "name": "python3"
  },
  "language_info": {
   "codemirror_mode": {
    "name": "ipython",
    "version": 3
   },
   "file_extension": ".py",
   "mimetype": "text/x-python",
   "name": "python",
   "nbconvert_exporter": "python",
   "pygments_lexer": "ipython3",
   "version": "3.6.6"
  }
 },
 "nbformat": 4,
 "nbformat_minor": 2
}
