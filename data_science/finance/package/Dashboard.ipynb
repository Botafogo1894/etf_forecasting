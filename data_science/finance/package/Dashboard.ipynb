{
 "cells": [
  {
   "cell_type": "code",
   "execution_count": 1,
   "metadata": {
    "extensions": {
     "jupyter_dashboards": {
      "version": 1,
      "views": {
       "grid_default": {},
       "report_default": {
        "hidden": true
       }
      }
     }
    }
   },
   "outputs": [
    {
     "data": {
      "text/html": [
       "<script>requirejs.config({paths: { 'plotly': ['https://cdn.plot.ly/plotly-latest.min']},});if(!window.Plotly) {{require(['plotly'],function(plotly) {window.Plotly=plotly;});}}</script>"
      ],
      "text/vnd.plotly.v1+html": [
       "<script>requirejs.config({paths: { 'plotly': ['https://cdn.plot.ly/plotly-latest.min']},});if(!window.Plotly) {{require(['plotly'],function(plotly) {window.Plotly=plotly;});}}</script>"
      ]
     },
     "metadata": {},
     "output_type": "display_data"
    }
   ],
   "source": [
    "import pandas as pd\n",
    "from bqplot import ColorScale, ColorAxis, DateScale, LinearScale, Axis, Lines, Figure\n",
    "from plotly.offline import download_plotlyjs, init_notebook_mode, plot, iplot\n",
    "import plotly.graph_objs as go\n",
    "init_notebook_mode(connected=True)\n",
    "from ipywidgets import Label, VBox, HBox, Layout, Accordion, Dropdown, widgets, interact\n",
    "from bqplot.market_map import MarketMap\n",
    "import os\n",
    "from datetime import datetime\n",
    "from iexfinance import get_historical_data\n",
    "import numpy as np\n",
    "import matplotlib.pyplot as plt\n",
    "from pandas import Series\n",
    "import warnings\n",
    "warnings.simplefilter(\"ignore\", DeprecationWarning)"
   ]
  },
  {
   "cell_type": "markdown",
   "metadata": {
    "extensions": {
     "jupyter_dashboards": {
      "version": 1,
      "views": {
       "grid_default": {},
       "report_default": {
        "hidden": true
       }
      }
     }
    }
   },
   "source": [
    "## RETRIEVE AND CLEAN DATA"
   ]
  },
  {
   "cell_type": "code",
   "execution_count": 2,
   "metadata": {
    "extensions": {
     "jupyter_dashboards": {
      "version": 1,
      "views": {
       "grid_default": {},
       "report_default": {
        "hidden": true
       }
      }
     }
    }
   },
   "outputs": [],
   "source": [
    "etf_data = pd.read_excel('../us_etfs.xlsx').drop_duplicates()\n",
    "etf_data.columns = [i.lower() for i in etf_data.columns]\n",
    "etf_list = list(etf_data['ticker'])\n",
    "def get_iex_data(stock_list, start, end):\n",
    "    return_list = []\n",
    "    for i in stock_list:\n",
    "        df = pd.DataFrame(get_historical_data(i, start, end, output_format='pandas')).interpolate()\n",
    "        print(i)\n",
    "        df['ticker'] = i\n",
    "        return_list.append(df)\n",
    "    return return_list"
   ]
  },
  {
   "cell_type": "code",
   "execution_count": 56,
   "metadata": {
    "extensions": {
     "jupyter_dashboards": {
      "version": 1,
      "views": {
       "grid_default": {},
       "report_default": {
        "hidden": true
       }
      }
     }
    },
    "scrolled": true
   },
   "outputs": [],
   "source": [
    "# full = get_iex_data(etf_list, start=None, end=None)"
   ]
  },
  {
   "cell_type": "code",
   "execution_count": 5,
   "metadata": {
    "extensions": {
     "jupyter_dashboards": {
      "version": 1,
      "views": {
       "grid_default": {},
       "report_default": {
        "hidden": true
       }
      }
     }
    }
   },
   "outputs": [],
   "source": [
    "def lstm_clean_data(data):\n",
    "    for i in range(len(data)):\n",
    "        data[i] = data[i].reset_index().dropna()\n",
    "        data[i]['date'] = pd.to_datetime(data[i]['date'])\n",
    "        data[i] = data[i].set_index('date')\n",
    "        data[i]['Reg_Target'] = data[i]['close'].shift(-1)\n",
    "    return data\n",
    "\n",
    "def add_past(etf_list, times):\n",
    "    for i in range(len(etf_list)):\n",
    "        for n in times:\n",
    "            etf_list[i]['{}day return'.format(n)] = -etf_list[i]['close'].diff(periods=n).round(3)\n",
    "    return etf_list"
   ]
  },
  {
   "cell_type": "code",
   "execution_count": null,
   "metadata": {
    "extensions": {
     "jupyter_dashboards": {
      "version": 1,
      "views": {
       "grid_default": {},
       "report_default": {
        "hidden": true
       }
      }
     }
    }
   },
   "outputs": [],
   "source": [
    "clean_full = lstm_clean_data(full)\n",
    "data = add_past(clean_full, [1, 5, 21, 252])\n",
    "# inp = add_past(clean_full, [1,2,3,4,5])"
   ]
  },
  {
   "cell_type": "markdown",
   "metadata": {
    "extensions": {
     "jupyter_dashboards": {
      "version": 1,
      "views": {
       "grid_default": {},
       "report_default": {
        "hidden": true
       }
      }
     }
    }
   },
   "source": [
    "## RUN MODELS"
   ]
  },
  {
   "cell_type": "code",
   "execution_count": null,
   "metadata": {
    "extensions": {
     "jupyter_dashboards": {
      "version": 1,
      "views": {
       "grid_default": {},
       "report_default": {
        "hidden": true
       }
      }
     }
    }
   },
   "outputs": [],
   "source": [
    "from keras.models import Sequential\n",
    "from keras.layers import Activation, Dense, LSTM, Dropout\n",
    "from sklearn.preprocessing import MinMaxScaler\n",
    "import timeit"
   ]
  },
  {
   "cell_type": "code",
   "execution_count": 7,
   "metadata": {
    "extensions": {
     "jupyter_dashboards": {
      "version": 1,
      "views": {
       "grid_default": {},
       "report_default": {
        "hidden": true
       }
      }
     }
    }
   },
   "outputs": [],
   "source": [
    "def lstm_time_test_split(X, n_past, date):\n",
    "    X = X.reset_index()\n",
    "    scaler = MinMaxScaler()\n",
    "    y_scaler = MinMaxScaler()\n",
    "    ticker = X['ticker'].iloc[0]\n",
    "    x_train = X[X['date'] < date].drop(columns=['date', 'Reg_Target', 'ticker', '1day return', '5day return', '21day return', '252day return'])\n",
    "    scaler.fit(x_train)\n",
    "    x_test = X[X['date'] >= date].drop(columns=['date', 'Reg_Target', 'ticker', '1day return', '5day return', '21day return', '252day return'])[:-1]\n",
    "    x_train = scaler.transform(x_train)\n",
    "    x_train = np.reshape(x_train,(x_train.shape[0], n_past, x_train.shape[1]))\n",
    "    x_test = scaler.transform(x_test)\n",
    "    x_test = np.reshape(x_test,(x_test.shape[0], n_past, x_test.shape[1]))\n",
    "    y_train = np.array(X[X['date'] < date]['Reg_Target'].drop(columns='date')).ravel().astype('float').reshape(-1,1)\n",
    "    y_scaler.fit(y_train)\n",
    "    y_train = y_scaler.transform(y_train)\n",
    "    y_test = np.array(X[X['date'] >= date]['Reg_Target'].drop(columns='date')).ravel().astype('float')[:-1].reshape(-1,1)\n",
    "    y_test = y_scaler.transform(y_test)\n",
    "    x_holdout = X[X['date'] >= date].drop(columns=['date', 'Reg_Target', 'ticker', '1day return', '5day return', '21day return', '252day return'])[-1:]\n",
    "    x_holdout = scaler.transform(x_holdout)\n",
    "    x_holdout = np.reshape(x_holdout,(x_holdout.shape[0], n_past, x_holdout.shape[1]))\n",
    "#     y_test = scaler.transform(y_test)\n",
    "    return ticker, x_train, x_test, x_holdout, y_train, y_test, scaler, y_scaler\n",
    "\n",
    "def build_step_model(x_train, y_train, epoc):\n",
    "    model = Sequential()\n",
    "    model.add(LSTM(50, input_shape=(x_train.shape[1], x_train.shape[2]), return_sequences=True))\n",
    "    model.add(Dropout(0.2))\n",
    "    model.add(LSTM(100, return_sequences=False))\n",
    "    model.add(Dropout(0.2))\n",
    "    model.add(Dense(1))\n",
    "    model.add(Activation('relu'))\n",
    "    model.compile(loss='mse', optimizer='adam')\n",
    "    history = model.fit(x_train, y_train, epochs=epoc, batch_size=64, validation_split=.07, verbose=2,shuffle=False)\n",
    "    return model, history\n",
    "\n",
    "def yield_preds(model, scaler, x_test, x_holdout, y_test):\n",
    "    yhat = model.predict(x_test)\n",
    "    preds = scaler.inverse_transform(yhat)\n",
    "    true = scaler.inverse_transform(y_test)\n",
    "    today = model.predict(x_holdout)\n",
    "    today_pred = scaler.inverse_transform(today)\n",
    "    return preds, today_pred\n",
    "\n",
    "def run_all_lstms(data, split, epoc):\n",
    "    out = pd.DataFrame()\n",
    "    tomorrow = pd.DataFrame()\n",
    "    start = timeit.default_timer()\n",
    "    for i in range(len(data)):\n",
    "        ticker, x_train, x_test, x_holdout, y_train, y_test, scaler, y_scaler = lstm_time_test_split(data[i], 1, split)\n",
    "        print('Model #: {}'.format(i))\n",
    "        model, history = build_step_model(x_train, y_train, epoc)\n",
    "        preds, future = yield_preds(model, y_scaler, x_test, x_holdout, y_test)\n",
    "        out[ticker] = preds.flatten()\n",
    "        tomorrow[ticker] = future.flatten()\n",
    "    out = out.set_index(data[0][-len(out):].index)\n",
    "    stop = timeit.default_timer()\n",
    "    print('Time: ', stop - start)\n",
    "    return out, tomorrow"
   ]
  },
  {
   "cell_type": "markdown",
   "metadata": {
    "extensions": {
     "jupyter_dashboards": {
      "version": 1,
      "views": {
       "grid_default": {},
       "report_default": {
        "hidden": true
       }
      }
     }
    }
   },
   "source": [
    "## MAKE DASHBOARD INPUTS"
   ]
  },
  {
   "cell_type": "code",
   "execution_count": 8,
   "metadata": {
    "extensions": {
     "jupyter_dashboards": {
      "version": 1,
      "views": {
       "grid_default": {},
       "report_default": {
        "hidden": true
       }
      }
     }
    }
   },
   "outputs": [],
   "source": [
    "def make_yesterday_mapframe(ref):\n",
    "    yesterday_inputs = pd.DataFrame([ref[i].reset_index().iloc[-1] for i in range(len(ref))])\n",
    "    mapframe = pd.merge(etf_data, yesterday_inputs, on='ticker').drop(columns = 'Reg_Target')\n",
    "    return mapframe"
   ]
  },
  {
   "cell_type": "code",
   "execution_count": 9,
   "metadata": {
    "extensions": {
     "jupyter_dashboards": {
      "version": 1,
      "views": {
       "grid_default": {},
       "report_default": {
        "hidden": true
       }
      }
     }
    }
   },
   "outputs": [],
   "source": [
    "mapframe_y = make_yesterday_mapframe(data)\n",
    "mapframe_y.columns = ['ticker','Fund Name','issuer','Expense Ratio','Total Assets','spread (%)','Segment','date','Open','High','Low','Previous Close',\n",
    "                    'volume','1 Day return', '1 Week return', '1 Month return','1 Year return']"
   ]
  },
  {
   "cell_type": "code",
   "execution_count": 10,
   "metadata": {
    "extensions": {
     "jupyter_dashboards": {
      "version": 1,
      "views": {
       "grid_default": {},
       "report_default": {
        "hidden": true
       }
      }
     }
    },
    "scrolled": true
   },
   "outputs": [],
   "source": [
    "def make_daily_mapframe(ref, value):\n",
    "    mapframe = pd.DataFrame()\n",
    "    for i in range(len(ref)):\n",
    "        ticker = ref[i]['ticker'].iloc[0]\n",
    "        mapframe[ticker] = ref[i][value]\n",
    "#     mapframe = mapframe.set_index(ref[0]['date']) \n",
    "    return mapframe"
   ]
  },
  {
   "cell_type": "code",
   "execution_count": 11,
   "metadata": {
    "extensions": {
     "jupyter_dashboards": {
      "version": 1,
      "views": {
       "grid_default": {},
       "report_default": {
        "hidden": true
       }
      }
     }
    }
   },
   "outputs": [],
   "source": [
    "mapframe_daily_close = make_daily_mapframe(data, 'close')"
   ]
  },
  {
   "cell_type": "code",
   "execution_count": 17,
   "metadata": {
    "extensions": {
     "jupyter_dashboards": {
      "version": 1,
      "views": {
       "grid_default": {},
       "report_default": {
        "hidden": true
       }
      }
     }
    }
   },
   "outputs": [],
   "source": [
    "mapframe_preds = pd.read_csv('important_backup.csv').set_index('date')"
   ]
  },
  {
   "cell_type": "code",
   "execution_count": 54,
   "metadata": {
    "extensions": {
     "jupyter_dashboards": {
      "version": 1,
      "views": {
       "grid_default": {},
       "report_default": {
        "hidden": false
       }
      }
     }
    },
    "scrolled": false
   },
   "outputs": [
    {
     "data": {
      "application/vnd.jupyter.widget-view+json": {
       "model_id": "0d351f43a0df46238997b5ed7434d2b8",
       "version_major": 2,
       "version_minor": 0
      },
      "text/html": [
       "<p>Failed to display Jupyter Widget of type <code>interactive</code>.</p>\n",
       "<p>\n",
       "  If you're reading this message in the Jupyter Notebook or JupyterLab Notebook, it may mean\n",
       "  that the widgets JavaScript is still loading. If this message persists, it\n",
       "  likely means that the widgets JavaScript library is either not installed or\n",
       "  not enabled. See the <a href=\"https://ipywidgets.readthedocs.io/en/stable/user_install.html\">Jupyter\n",
       "  Widgets Documentation</a> for setup instructions.\n",
       "</p>\n",
       "<p>\n",
       "  If you're reading this message in another frontend (for example, a static\n",
       "  rendering on GitHub or <a href=\"https://nbviewer.jupyter.org/\">NBViewer</a>),\n",
       "  it may mean that your frontend doesn't currently support widgets.\n",
       "</p>\n"
      ],
      "text/plain": [
       "interactive(children=(Dropdown(description='ticker', options=('SPY', 'IVV', 'VTI', 'VOO', 'QQQ', 'VEA', 'EFA', 'IEFA', 'VWO', 'AGG', 'IJH', 'IWM', 'IEMG', 'IJR', 'IWF', 'VTV', 'VUG', 'IWD', 'BND', 'LQD', 'XLF', 'VNQ', 'EEM', 'VIG', 'GLD', 'BSV', 'VO', 'VB', 'TIP', 'VEU', 'IVW', 'XLK', 'VGT', 'DIA', 'VYM', 'MDY', 'VCSH', 'IWB', 'XLV', 'VCIT', 'XLE', 'IWR', 'DVY', 'USMV', 'VGK', 'EWJ', 'SCHF', 'PFF', 'XLY', 'SDY', 'RSP', 'ITOT', 'IVE', 'SCHX', 'HYG', 'SHV', 'EMB', 'VBR', 'SHY', 'VV', 'SCHB', 'XLI', 'BIV', 'VT', 'MBB', 'BNDX', 'VXUS', 'IWO', 'IWS', 'FLOT', 'IXUS', 'MINT', 'MTUM', 'IGSB', 'SCZ', 'IAU', 'IWN', 'IBB', 'TLT', 'MUB', 'AMLP', 'JNK', 'FDN', 'VOE', 'IWP', 'EZU', 'XLP', 'IWV', 'VBK', 'IEF', 'EFAV', 'ACWI', 'VHT', 'SCHA', 'VFH', 'SCHD', 'IJK', 'GDX', 'SPLV', 'XLU', 'BKLN', 'IEI', 'IJT', 'VMBS', 'SCHG', 'IJS', 'VXF', 'QUAL', 'GOVT', 'IJJ', 'ITA', 'VOT', 'DBEF', 'HDV', 'EFV', 'VNQI', 'EWZ', 'GUNR', 'IGIB', 'SCHP', 'DXJ', 'VSS', 'SCHM', 'VTIP', 'IUSG', 'XBI', 'PRF', 'SCHZ', 'PGX', 'HEDJ', 'FXI', 'KRE', 'OEF', 'SCHE', 'EEMV', 'XLB', 'FNDX', 'CWB', 'SLV', 'SCHV', 'INDA', 'SCHH', 'IUSV', 'SPSB', 'NEAR', 'IDV', 'IYR', 'DGRO', 'FVD', 'IYW', 'VDE', 'EMLC', 'GDXJ', 'MGK', 'FNDF', 'VPL', 'VDC', 'TQQQ', 'GSLC', 'EWT', 'FLRN', 'VIS', 'PCY', 'AAXJ', 'EWY', 'NOBL', 'SPIB', 'VLUE', 'SPYG', 'SJNK', 'SHM', 'EFG', 'XOP', 'VTEB', 'FPE', 'BIL', 'FNDA', 'DON', 'KBE', 'SRLN', 'HEFA', 'MCHI', 'SPDW', 'ACWV', 'VCR', 'EWG', 'FEZ', 'VGSH', 'AMJ', 'IHI', 'FBT', 'TOTL', 'SHYG', 'ACWX', 'SPAB', 'RWX', 'EWC', 'SCHR', 'SCHO', 'FV', 'XLRE', 'VPU', 'VAW', 'TFI', 'HYD', 'VGIT', 'SSO', 'FTSM', 'SPTM', 'IGF', 'RPG', 'PDBC', 'IEUR', 'SPHD', 'EWH', 'QTEC', 'DBC', 'IXN', 'VCLT', 'RWR', 'ICF', 'XT', 'FLGE', 'SLYG', 'DGRW', 'JPST', 'VOOG', 'IEV', 'IYH', 'FTEC', 'EPP', 'IUSB', 'FXL', 'RWO', 'SCHC', 'EMLP', 'SDOG', 'FNDE', 'VONG', 'DES', 'ISTB', 'BLV', 'BOTZ', 'MGV', 'VRP', 'USIG', 'QLD', 'IGV', 'PRFZ', 'ROBO', 'SKYY', 'SLYV', 'STIP', 'ONEQ', 'DLN', 'XLC', 'IOO', 'FNDC', 'BBJP', 'EWU', 'BOND', 'GVI', 'HYLB', 'DEM', 'GBIL', 'IYF', 'QDF', 'RYT', 'DLS', 'FTSL', 'HACK', 'PDP', 'IXJ', 'FBGX', 'FAS', 'USO', 'TDTT', 'FXR', 'SPLG', 'IGM', 'HEZU', 'TBT', 'IXC', 'GEM', 'HYS', 'IYG', 'VTWO', 'LMBS', 'ITM', 'FIYY', 'XAR', 'PZA', 'RSX', 'VONV', 'SOXX', 'SPYV', 'JPIN', 'SUB', 'USMC', 'SPSM', 'FEX', 'MGC', 'MOAT', 'CWI', 'GNR', 'MLPI', 'FIHD', 'FNCL', 'PGF', 'KWEB', 'BBCA', 'SPEM', 'FHLC', 'GSY', 'XMLV', 'FDL', 'EPI', 'UPRO', 'ARKK', 'GSG', 'XSLV', 'DGS', 'PXF', 'SLQD', 'PSCH', 'BBEU', 'SPHQ', 'TILT', 'MDYG', 'PWV', 'IPE', 'PTLC', 'OIH', 'FXH', 'LRGF', 'PKW', 'EUFN', 'BSCK', 'EWA', 'SH', 'DSI', 'FXO', 'REET', 'HYLS', 'IYY', 'IWY', 'ILF', 'FDT', 'VOX', 'REM', 'SMH', 'FPX', 'EWW', 'QAI', 'EZM', 'BSCJ', 'FTCS', 'FTA', 'GSIE', 'SLY', 'HEWJ', 'BSJJ', 'ANGL', 'CFO', 'FTXO', 'AOR', 'DBEU', 'SPMD', 'DFJ', 'SPTL', 'IWC', 'CMF', 'PXH', 'VIOO', 'NUGT', 'BWX', 'JKE', 'VXX', 'IYE', 'IYJ', 'TLTD', 'PPA', 'GXC', 'INTF', 'DBJP', 'EWL', 'VWOB', 'AIA', 'RWL', 'BSCL', 'JKD', 'RPV', 'FTC', 'VYMI', 'XNTK', 'IYC', 'PHB', 'IVOO', 'VONE', 'EWP', 'SDIV', 'IGE', 'FNX', 'DHS', 'DFE', 'IHF', 'MDYV', 'TDIV', 'BSJK', 'KBWB', 'SPXL', 'ITB', 'TDTF', 'RDIV', 'VIGI', 'AOM', 'MLPA', 'AOA', 'ASHR', 'IDEV', 'DWM', 'IPAC', 'BAB', 'IYT', 'EWQ', 'DJP', 'INDY', 'VOOV', 'UYG', 'FEP', 'DWX', 'GWX', 'IAGG', 'IGOV', 'IQDF', 'PHO', 'CSM', 'LIT', 'IAT', 'IVOG', 'CIBR', 'BSCM', 'MOO', 'CDC', 'DTN', 'STPZ', 'SDS', 'RODM', 'XHE', 'IBDM', 'XRT', 'CORP', 'NFRA', 'SUSA', 'TECL', 'KIE', 'IFV', 'FYX', 'PID', 'SGOL', 'PEY', 'USRT', 'EES', 'IBDL', 'XME', 'COMT', 'FVC', 'TNA', 'JKG', 'XLG', 'RYH', 'FFEU', 'GDVD', 'IVOV', 'PCEF', 'XHB', 'SPYD', 'NANR', 'FDIS', 'BSCI', 'RDVY', 'MDIV', 'VGLT', 'IBDK', 'PWB', 'PSK', 'JNUG', 'MJ', 'ARKW', 'IYM', 'CFA', 'PTMC', 'PNQI', 'VUSE', 'SOXL', 'RFG', 'ONEO', 'EDV', 'DTD', 'SQQQ', 'SNLN', 'AMZA', 'VIDI', 'VNLA', 'BBAX', 'MNA', 'FREL', 'LVHD', 'USCI', 'IDU', 'TLH', 'EWM', 'EWS', 'FENY', 'RFDI', 'IYZ', 'BSJI', 'PJP', 'CGW', 'QQEW', 'ITE', 'JPUS', 'FFTY', 'IGLB', 'SPTS', 'FIEE', 'TLTE', 'KXI', 'IBUY', 'PFXF', 'IDLV', 'EBND', 'DBA', 'URTH', 'CRBN', 'DWAS', 'MLPX', 'IEO', 'UVXY', 'HYMB', 'HFXI', 'VIOG', 'UUP', 'FEM', 'RWJ', 'ICSH', 'IGHG', 'IYK', 'IPAY', 'VBND', 'FLTR', 'TBF', 'FM', 'IBDN', 'RHS', 'ERUS', 'EMHY', 'FIDU', 'IHDG', 'CSML', 'IXG', 'SCHK', 'UDOW', 'PPLT', 'FGD', 'JHML', 'JHMM', 'DGAZ', 'FYC', 'THD', 'BSJL', 'BBH', 'EQAL', 'ONEV', 'EWX', 'WIP', 'AOK', 'CLTL', 'IBDO', 'MORL', 'IFGL', 'FDD', 'IHE', 'JKI', 'WOOD', 'ECH', 'FXN', 'SPXU', 'TUR', 'ECON', 'ATMP', 'PTH', 'TVIX', 'FMB', 'GMF', 'ROM', 'PSCT', 'DMRL', 'JKL', 'SMDV', 'LABU', 'DDM', 'FBND', 'FINX', 'EEMA', 'EZA', 'DIV', 'AGGY', 'ONEY', 'LEMB', 'KBWY', 'BSCN', 'VTHR', 'EIDO', 'DOL', 'VRIG', 'FXD', 'BIB', 'ERX', 'SECT', 'REGL', 'AGZ', 'OUSA', 'JKF', 'EDIV', 'XPH', 'EWI', 'CQQQ', 'ULVM', 'VIOV', 'DBO', 'DVYE', 'RYF', 'PICK', 'SVXY', 'QYLD', 'ESGD', 'UCO', 'FLQL', 'QABA', 'RWK', 'PSQ', 'FDRR', 'HYGH', 'XES', 'VNM', 'RZG', 'PSC', 'EMQQ', 'USFR', 'MFEM', 'TMV', 'SHE', 'FXG', 'FUTY', 'FIW', 'URA', 'PBP', 'IBDH', 'ESGE', 'HEEM', 'SIL', 'ARKG', 'IWX', 'SPLB', 'BRZU', 'PTNQ', 'KBWD', 'GIGB', 'UGAZ', 'IBDQ', 'FSTA', 'HEWG', 'QDEF', 'KBA', 'PXMG', 'RXI', 'FNI', 'IEZ', 'FIXD', 'REZ', 'XSD', 'VTWG', 'FXU', 'IDOG', 'JKH', 'GLTR', 'PBE', 'IYLD', 'GREK', 'UIVM', 'IAI', 'CMBS', 'DTH', 'UNG', 'BSCO', 'NYF', 'SPYX', 'TIPX', 'SIVR', 'TZA', 'PSJ', 'IBMI', 'PFM', 'YLD', 'RYE', 'FLQE', 'CLRG', 'TAN', 'EPOL', 'IXP', 'SPXS', 'DIM', 'GQRE', 'AMU', 'IBDP', 'HYZD', 'SBIO', 'YINN', 'QID', 'IPKW', 'PIZ', 'USLV', 'HYEM', 'BAR', 'RGI', 'LQDH', 'PDN', 'MUNI', 'PPH', 'CVY', 'PSP', 'JUST', 'FNDB', 'PSI', 'IBMH', 'FXZ', 'MXI', 'PXLG', 'QEFA', 'QEMM', 'EELV', 'EMGF', 'EWD', 'BWZ', 'SCJ', 'BSJM', 'USHY', 'JKJ', 'CZA', 'IVLU', 'FNY', 'DWLD', 'AGGP', 'FLJP', 'GAL', 'EEMS', 'RWM', 'EDC', 'CEFL', 'UWM', 'FMAT', 'GII', 'ICVT', 'DDWM', 'TFLO', 'HUSE', 'EXI', 'LTPZ', 'SMIN', 'BDCL', 'PUTW', 'KSA', 'PSCF', 'WBIH', 'PWZ', 'DWT', 'RJI', 'XTN', 'IEUS', 'IG', 'FXE', 'DOG', 'GLDM', 'PGHY', 'PIN', 'KNOW', 'DMRI', 'JPEM', 'IBMK', 'GRES', 'FSZ', 'DBE', 'PIE', 'EPS', 'VTWV', 'FTGC', 'SIZE', 'RING', 'EUM', 'FAD', 'IBMJ', 'FGM', 'RIGS', 'GHYG', 'JPGE', 'BIZD', 'JKK', 'FDVV', 'WDIV', 'AIEQ', 'CSD', 'CUT', 'PGJ', 'FEMS', 'XMX', 'ILTB', 'YYY', 'FFTI', 'GCOW', 'EUSA', 'RZV', 'SPFF', 'QQQE', 'SMB', 'JPHF', 'BKF', 'DEF', 'HTRB', 'SDOW', 'ELD', 'AIRR', 'RYJ', 'MBG', 'AADR', 'PKB', 'LDUR', 'SMLV', 'BICK', 'IBND', 'FEU', 'BFOR', 'HDEF', 'FLTB', 'DOO', 'RAVI', 'ARKQ', 'FCVT', 'SMLF', 'DBB', 'AGQ', 'EUSC', 'PSL', 'PTF', 'FXF', 'PIO', 'SCIF', 'XTL', 'NORW', 'KBWR', 'CURE', 'WTMF', 'JPGB', 'HYLD', 'HYHG', 'RUSL', 'FTSD', 'ENZL', 'DYLS', 'CIZ', 'PWC', 'PTEU', 'FJP', 'PZD', 'ROUS', 'DEUS', 'RXL', 'SHYD', 'EUO', 'CATH', 'FTLS', 'LOWC', 'RFFC', 'ICLN', 'SPHB', 'TPYP', 'CXSE', 'LVHB', 'USLB', 'EQL', 'KLDW', 'DVP', 'BLOK', 'IWL', 'FXC', 'SOCL', 'GCC', 'EPHE', 'RTM', 'MVV', 'TOK', 'UEVM', 'UWT', 'QLTA', 'IMTM', 'VIXY', 'COWZ', 'ZROZ', 'GVAL', 'SCO', 'JPHY', 'RFDA', 'MLN', 'UITB', 'EPU', 'XSOE', 'PSCI', 'DFNL', 'WPS', 'FCOM', 'BCI', 'JXI', 'DIVC', 'CDL', 'PLW', 'IBDR', 'EWO', 'TMFC', 'MORT', 'HYUP', 'NUAG', 'HUSV', 'SCIU', 'RLY', 'XRLV', 'DWFI', 'CHIQ', 'FXB', 'SYLD', 'OUSM', 'URTY', 'FAZ', 'FDM', 'FNGU', 'DUST', 'USEQ', 'PRN', 'PFFD', 'ZIV', 'IHY', 'PALL', 'PEJ', 'DXD', 'ADRE', 'XSW', 'DXJS', 'TTAC', 'OMFL', 'DUSA', 'RYU', 'EWN', 'HYDW', 'MINC', 'RTH', 'URE', 'IBDS', 'REMX', 'FCG', 'PICB', 'RFCI', 'INCO', 'SGDM', 'OUNZ', 'GAMR', 'DBEM', 'VMOT', 'DBAW', 'CSF', 'FXY', 'JPXN', 'IBDC', 'EFAD', 'QVAL', 'PST', 'BSJN', 'SJB', 'WBIY', 'UGLD', 'RFEU', 'EIS', 'GBF', 'LGLV', 'RBIN', 'GUSH', 'HDGE', 'PAVE', 'IDLB', 'FRI', 'FQAL', 'FXA', 'CHAD', 'BSCP', 'DGRS', 'CAPE', 'RCD', 'XMPT', 'KCE', 'TMF', 'RBUS', 'GSC', 'PXE', 'JPME', 'GVIP', 'OCIO', 'RFEM', 'IQLT', 'QUS', 'IAK', 'GMOM', 'FIBR', 'DMRM', 'DGL', 'SRET', 'NFLT', 'PBW', 'RFV', 'UCON', 'DIG', 'MXDU', 'PXSG', 'DBP', 'PFIG', 'SLX', 'IBML', 'OILB', 'PYZ', 'PXI', 'ACIM', 'ESGU', 'EWMC', 'JPSE', 'BNO', 'FDMO', 'MLPC', 'BLCN', 'GNMA', 'DRW', 'IVAL', 'PWS', 'FVAL', 'JETS', 'DEW', 'SNSR', 'DIAL', 'ULST', 'XHS', 'VXXB', 'BBRE', 'PXLV', 'PSCD', 'HAP', 'QQXT', 'FEUZ', 'PSCC', 'DGT', 'TWM', 'INDL', 'IQDE', 'MEAR', 'RJA', 'GXG', 'UCI', 'ARGT', 'INKM', 'USDU', 'QCLN', 'FAB', 'FPEI', 'BDCS', 'MOTI', 'EDZ', 'TTFS', 'BLES', 'DWTR', 'FRAK', 'IBCD', 'STOT', 'GEX', 'HYLV', 'TUZ', 'DWAQ', 'BEMO', 'YANG', 'FTVA', 'QMOM', 'WBIG', 'WBII', 'FLEE', 'PPLC', 'HSPX', 'FDIV', 'TTT', 'ENTR', 'DIVY', 'BLHY', 'ROOF', 'JPEU', 'SOXS', 'USL', 'MFUS', 'GSEW', 'PPTY', 'ESGG', 'IQDY', 'HYXU', 'DGRE', 'FAN', 'COPX', 'PEZ', 'PXQ', 'YCS', 'ISHG', 'XITK', 'EFAX', 'NUSC', 'FFHG', 'CCOR', 'DSUM', 'ARCM', 'DGP', 'FDLO', 'EUDG', 'HECO', 'DNL', 'USVM', 'PBJ', 'DXGE', 'PXSV', 'VFMF', 'HSRT', 'JDST', 'KOL', 'BRF', 'NFO', 'UGL', 'SMMU', 'QARP', 'HAO', 'CEMB', 'EXT', 'MLPQ', 'FYT', 'CRAK', 'MBSD', 'DFEN', 'ACWF', 'CHAU', 'JHMT', 'WBIC', 'FALN', 'CJNK', 'PSCU', 'DRIP', 'XWEB', 'GYLD', 'EIRL', 'JHMD', 'MIDU', 'EEB', 'GAA', 'FTHI', 'IQDG', 'DTYS', 'KBWP', 'HTUS', 'SEA', 'QLC', 'SMHD', 'IMOM', 'PULS', 'ROAM', 'CACG', 'JHMH', 'HOLD', 'EQWL', 'USTB', 'PZT', 'IPFF', 'NULG', 'CWEB', 'AFK', 'TERM', 'RISE', 'USD', 'JHMF', 'AGGE', 'IGRO', 'GURU', 'ITEQ', 'SKOR', 'PVI', 'HDMV', 'IBDD', 'BJO', 'DINT', 'PBS', 'BSCQ', 'DWIN', 'VTC', 'FEMB', 'IBD', 'KRMA', 'GHII', 'PEK', 'OGIG', 'FCOR', 'HYND', 'SRTY', 'ACSI', 'RWW', 'ADRD', 'EWGS', 'DEEF', 'AGZD', 'RVNU', 'IGEB', 'CLIX', 'BTEC', 'AUSF', 'IMTB', 'EWUS', 'RFAP', 'GRI', 'ISCF', 'JHSC', 'BCM', 'EWK', 'CNCR', 'ISMD', 'PSCE', 'JSMD', 'TBX', 'ZMLP', 'IGN', 'NUMG', 'EURL', 'BSJO', 'FRN', 'WBIE', 'LABD', 'RFUN', 'PBD', 'SGDJ', 'COM', 'UYM', 'EMTL', 'BBRC', 'TIPZ', 'FNGO', 'DJCI', 'LFEQ', 'LVHI', 'PREF', 'JPMF', 'FVL', 'CPI', 'DTEC', 'CSB', 'ISRA', 'JPMB', 'YMLP', 'PRNT', 'QXGG', 'AAAU', 'IFLY', 'SMMV', 'LEGR', 'HYGV', 'FILL', 'IDX', 'EWZS', 'BMLP', 'QAT', 'DALI', 'FNK', 'JHMC', 'USMF', 'HDG', 'SLVP', 'SPMO', 'DWLV', 'FLJH', 'UGA', 'GNAF', 'REML', 'LEAD', 'GSSC', 'AIQ', 'SYG', 'JBRI', 'JMBS', 'JSML', 'JHMS', 'JHEM', 'JHME', 'JHMI', 'JHMA', 'JHMU', 'JPEH', 'JPIH', 'JPED', 'JPLS', 'JDIV', 'JMIN', 'JMOM', 'JQUA', 'JVAL', 'KCCB', 'KCNY', 'KARS', 'KEMQ', 'KMED', 'KURE', 'KALL', 'KGRN', 'OBOR', 'KFYP', 'FRLG', 'DDBI', 'EDBI', 'LVHE', 'INFR', 'SQLV', 'UDBI', 'MSUS', 'CHNA', 'CNY', 'DRR', 'URR', 'INR', 'FNGZ', 'MLPY', 'MXDE', 'LSST', 'MVIN', 'NUSA', 'NUEM', 'NUDM', 'NULV', 'NUMV', 'NUBD', 'NURE', 'BOON', 'OASI', 'OEUR', 'ONTL', 'REEM', 'REDV', 'ESGL', 'ESGF', 'RGLB', 'REFA', 'RIDV', 'OVOL', 'OMOM', 'OQAL', 'OSIZ', 'OVLU', 'OYLD', 'OMFS', 'OSCV', 'SRVR', 'INDS', 'RTL', 'SZNE', 'ICOW', 'VETS', 'PEXL', 'CALF', 'PHYL', 'MFDX', 'MAGA', 'PPDM', 'PPEM', 'PPMC', 'PPSC', 'TCTL', 'PVAL', 'PXUS', 'GENY', 'PSET', 'PY', 'PMOM', 'WYDE', 'EMTY', 'TOLZ', 'EQRR', 'PEX', 'RINF', 'OILK', 'FUT', 'MRGR', 'ALTS', 'EMDV', 'EUDV', 'ONLN', 'RALS', 'SPXB', 'SPXE', 'SPXN', 'SPXV', 'SPXT', 'SBM', 'EUFX', 'SEF', 'YXI', 'MYY', 'EFZ', 'DDG', 'REK', 'SBB', 'EMSH', 'UBT', 'UST', 'BOIL', 'UGE', 'UCC', 'ULE', 'XPP', 'UPV', 'GDXX', 'UJB', 'UXI', 'UBR', 'EFO', 'EET', 'EZJ', 'SAA', 'LTL', 'UPW', 'YCL', 'OILU', 'OILD', 'FINU', 'UMDD', 'UBIO', 'FINZ', 'SMDD', 'ZBIO', 'CROC', 'SMN', 'KOLD', 'SZK', 'SCC', 'SKF', 'FXP', 'EPV', 'GLL', 'GDXS', 'RXD', 'SIJ', 'MZZ', 'BZQ', 'EFU', 'EEV', 'EWV', 'BIS', 'DUG', 'SRS', 'SSG', 'ZSL', 'SDD', 'REW', 'SDP', 'VIXM', 'FANZ', 'XUSA', 'QXMI', 'QXTR', 'QXRR', 'DFND', 'GARD', 'BCNA', 'UTES', 'IPOS', 'IPO', 'RVRS', 'BKC', 'VMIN', 'BIKR', 'CEFS', 'GUDB', 'SLT', 'ICAN', 'CBND', 'SMEZ', 'XKFS', 'XKII', 'XKST', 'GLDW', 'SYE', 'SYV', 'XINA', 'EEMX', 'QWLD', 'MMTM', 'VLU', 'SPYB', 'XTH', 'ZCAN', 'ZDEU', 'ZHOK', 'ZJPN', 'ZGBR', 'HNDL', 'ARVR', 'OLD', 'SLIM', 'ORG', 'TBLU', 'TTAI', 'IDIV', 'XDIV', 'GOAU', 'WTID', 'WTIU', 'UNL', 'USOU', 'USOD', 'CPER', 'SDCI', 'BUY', 'BUYN', 'VALX', 'CBON', 'CNXT', 'EGPT', 'EMAG', 'EVX', 'BJK', 'GNRX', 'GRNB', 'YMLI', 'PLND', 'PRB', 'RAAX', 'RSXJ', 'NLR', 'VSGX', 'ESGV', 'BNDW', 'VFLQ', 'VFMV', 'VFMO', 'VFQY', 'VFVA', 'EXIV', 'EVIX', 'DGLD', 'DSLV', 'UAUD', 'UCHF', 'UEUR', 'UGBP', 'UJPY', 'DAUD', 'DCHF', 'DEUR', 'DGBP', 'DJPY', 'VIIX', 'ULBR', 'DLBR', 'UTRN', 'VSDA', 'CEY', 'CEZ', 'CID', 'CIL', 'VSMV', 'CSA', 'CUMB', 'VESH', 'EMEM', 'PFFA', 'BBC', 'BBP', 'VGFO', 'VSL', 'WBIR', 'WBIL', 'WBID', 'WBIA', 'WBIF', 'WBIB', 'NTSX', 'ALD', 'AXJL', 'AUSE', 'WBAL', 'BZF', 'RPUT', 'CYB', 'DYB', 'DDEZ', 'DHDG', 'DDLS', 'DDJP', 'CEW', 'EMCG', 'EMCB', 'DVEM', 'EMMF', 'EDOM', 'WFIG', 'WFHY', 'SFIG', 'SFHY', 'HGSD', 'GSD', 'WCHN', 'DWMF', 'DXJF', 'JHDG', 'GULF', 'AGND', 'QSY', 'SHAG', 'EQLT', 'IFIX', 'IGVT', 'EMIH', 'EURZ', 'DEMG', 'GRMY', 'ASHS', 'HYIH', 'IGIH', 'JPN', 'CN', 'HDAW', 'DBAP', 'DBEZ', 'DBGR', 'DBKO', 'DBUK'), value='SPY'), Output()), _dom_classes=('widget-interact',))"
      ]
     },
     "metadata": {},
     "output_type": "display_data"
    },
    {
     "data": {
      "text/plain": [
       "<function __main__.explore>"
      ]
     },
     "execution_count": 54,
     "metadata": {},
     "output_type": "execute_result"
    }
   ],
   "source": [
    "def explore(ticker):\n",
    "    df = [i for i in full if ticker in list(i['ticker'])][0]\n",
    "    trace = go.Candlestick(x=df.reset_index()['date'],\n",
    "                           open=df['open'],\n",
    "                           high=df['high'],\n",
    "                           low=df['low'],\n",
    "                           close=df['close'])\n",
    "    layout = go.Layout(title='{} Price (USD)'.format(ticker),xaxis = dict(\n",
    "            rangeselector=dict(\n",
    "            buttons=list([\n",
    "                dict(count=1,\n",
    "                     label='1m',\n",
    "                     step='month',\n",
    "                     stepmode='backward'),\n",
    "                dict(count=6,\n",
    "                     label='6m',\n",
    "                     step='month',\n",
    "                     stepmode='backward'),\n",
    "                dict(step='all')\n",
    "            ])),\n",
    "            rangeslider = dict(\n",
    "                visible = False)))\n",
    "    inp = [trace]\n",
    "    fig = go.Figure(data=inp,layout=layout)\n",
    "    iplot(fig)\n",
    "interact(explore, ticker=etf_list)"
   ]
  },
  {
   "cell_type": "code",
   "execution_count": 57,
   "metadata": {
    "extensions": {
     "jupyter_dashboards": {
      "version": 1,
      "views": {
       "grid_default": {},
       "report_default": {
        "hidden": false
       }
      }
     }
    },
    "scrolled": false
   },
   "outputs": [
    {
     "data": {
      "application/vnd.jupyter.widget-view+json": {
       "model_id": "d4b168db77ab4f8fb690772060a55b72",
       "version_major": 2,
       "version_minor": 0
      },
      "text/html": [
       "<p>Failed to display Jupyter Widget of type <code>VBox</code>.</p>\n",
       "<p>\n",
       "  If you're reading this message in the Jupyter Notebook or JupyterLab Notebook, it may mean\n",
       "  that the widgets JavaScript is still loading. If this message persists, it\n",
       "  likely means that the widgets JavaScript library is either not installed or\n",
       "  not enabled. See the <a href=\"https://ipywidgets.readthedocs.io/en/stable/user_install.html\">Jupyter\n",
       "  Widgets Documentation</a> for setup instructions.\n",
       "</p>\n",
       "<p>\n",
       "  If you're reading this message in another frontend (for example, a static\n",
       "  rendering on GitHub or <a href=\"https://nbviewer.jupyter.org/\">NBViewer</a>),\n",
       "  it may mean that your frontend doesn't currently support widgets.\n",
       "</p>\n"
      ],
      "text/plain": [
       "VBox(children=(Dropdown(description='Color By:', options=('Segment', '1 Day return', '1 Week return', '1 Month return', '1 Year return'), value='Segment'), MarketMap(colors=['#1f77b4', '#ff7f0e', '#2ca02c', '#d62728', '#9467bd', '#8c564b', '#e377c2', '#7f7f7f', '#bcbd22', '#17becf'], cols=50, font_style={'font-size': '8px', 'fill': 'black'}, groups=array(['Equity: U.S. - Large Cap', 'Equity: U.S. - Large Cap',\n",
       "       'Equity: U.S. - Total Market', ...,\n",
       "       'Equity: Germany - Total Market',\n",
       "       'Equity: South Korea - Total Market',\n",
       "       'Equity: U.K. - Total Market'], dtype=object), layout=Layout(min_height='1000px', min_width='1400px'), map_margin={'top': 50, 'right': 50, 'left': 50, 'bottom': 50}, names=array(['SPY', 'IVV', 'VTI', ..., 'DBGR', 'DBKO', 'DBUK'], dtype='<U4'), ref_data=     ticker                                          Fund Name  \\\n",
       "0       SPY                             SPDR S&P 500 ETF Trust   \n",
       "1       IVV                           iShares Core S&P 500 ETF   \n",
       "2       VTI                    Vanguard Total Stock Market ETF   \n",
       "3       VOO                               Vanguard S&P 500 ETF   \n",
       "4       QQQ                                  Invesco QQQ Trust   \n",
       "5       VEA                Vanguard FTSE Developed Markets ETF   \n",
       "6       EFA                              iShares MSCI EAFE ETF   \n",
       "7      IEFA                         iShares Core MSCI EAFE ETF   \n",
       "8       VWO                 Vanguard FTSE Emerging Markets ETF   \n",
       "9       AGG               iShares Core U.S. Aggregate Bond ETF   \n",
       "10      IJH                       iShares Core S&P Mid-Cap ETF   \n",
       "11      IWM                           iShares Russell 2000 ETF   \n",
       "12     IEMG             iShares Core MSCI Emerging Markets ETF   \n",
       "13      IJR                     iShares Core S&P Small Cap ETF   \n",
       "14      IWF                    iShares Russell 1000 Growth ETF   \n",
       "15      VTV                                 Vanguard Value ETF   \n",
       "16      VUG                                Vanguard Growth ETF   \n",
       "17      IWD                     iShares Russell 1000 Value ETF   \n",
       "18      BND                     Vanguard Total Bond Market ETF   \n",
       "19      LQD  iShares iBoxx USD Investment Grade Corporate B...   \n",
       "20      XLF                  Financial Select Sector SPDR Fund   \n",
       "21      VNQ                           Vanguard Real Estate ETF   \n",
       "22      EEM                  iShares MSCI Emerging Markets ETF   \n",
       "23      VIG                 Vanguard Dividend Appreciation ETF   \n",
       "24      GLD                                    SPDR Gold Trust   \n",
       "25      BSV                       Vanguard Short-Term Bond ETF   \n",
       "26       VO                               Vanguard Mid-Cap ETF   \n",
       "27       VB                             Vanguard Small-Cap ETF   \n",
       "28      TIP                              iShares TIPS Bond ETF   \n",
       "29      VEU                  Vanguard FTSE All-World ex-US ETF   \n",
       "...     ...                                                ...   \n",
       "1616   SFIG  WisdomTree Fundamental U.S. Short-Term Corpora...   \n",
       "1617   SFHY  WisdomTree Fundamental U.S. Short-Term High Yi...   \n",
       "1618   HGSD    WisdomTree Global Hedged SmallCap Dividend Fund   \n",
       "1619    GSD           WisdomTree Global SmallCap Dividend Fund   \n",
       "1620   WCHN               WisdomTree ICBCCS S&P China 500 Fund   \n",
       "1621   DWMF          WisdomTree International Multifactor Fund   \n",
       "1622   DXJF            WisdomTree Japan Hedged Financials Fund   \n",
       "1623   JHDG  WisdomTree Japan Hedged Quality Dividend Growt...   \n",
       "1624   GULF               WisdomTree Middle East Dividend Fund   \n",
       "1625   AGND  WisdomTree Negative Duration U.S. Aggregate Bo...   \n",
       "1626    QSY     WisdomTree U.S. Quality Shareholder Yield Fund   \n",
       "1627   SHAG  WisdomTree Yield Enhanced U.S. Short-Term Aggr...   \n",
       "1628   EQLT                       Workplace Equality Portfolio   \n",
       "1629   IFIX  Xtrackers Barclays International Corporate Bon...   \n",
       "1630   IGVT  Xtrackers Barclays International Treasury Bond...   \n",
       "1631   EMIH  Xtrackers Emerging Markets Bond Interest Rate ...   \n",
       "1632   EURZ                      Xtrackers Eurozone Equity ETF   \n",
       "1633   DEMG   Xtrackers FTSE Emerging Comprehensive Factor ETF   \n",
       "1634   GRMY                       Xtrackers Germany Equity ETF   \n",
       "1635   ASHS  Xtrackers Harvest CSI 500 China-A Shares Small...   \n",
       "1636   HYIH  Xtrackers High Yield Corporate Bond Interest R...   \n",
       "1637   IGIH  Xtrackers Investment Grade Bond Interest Rate ...   \n",
       "1638    JPN          Xtrackers Japan JPX-Nikkei 400 Equity ETF   \n",
       "1639     CN                Xtrackers MSCI All China Equity ETF   \n",
       "1640   HDAW  Xtrackers MSCI All World ex U.S. High Dividend...   \n",
       "1641   DBAP  Xtrackers MSCI Asia Pacific ex Japan Hedged Eq...   \n",
       "1642   DBEZ          Xtrackers MSCI Eurozone Hedged Equity ETF   \n",
       "1643   DBGR           Xtrackers MSCI Germany Hedged Equity ETF   \n",
       "1644   DBKO       Xtrackers MSCI South Korea Hedged Equity ETF   \n",
       "1645   DBUK    Xtrackers MSCI United Kingdom Hedged Equity ETF   \n",
       "\n",
       "                            issuer Expense Ratio Total Assets spread (%)  \\\n",
       "0     State Street Global Advisors        0.0009     $280.33B          0   \n",
       "1                        BlackRock        0.0004     $165.12B     0.0001   \n",
       "2                         Vanguard        0.0004     $107.04B     0.0001   \n",
       "3                         Vanguard        0.0004     $104.42B     0.0001   \n",
       "4                          Invesco         0.002      $74.02B     0.0001   \n",
       "5                         Vanguard        0.0007      $71.73B     0.0002   \n",
       "6                        BlackRock        0.0032      $71.11B     0.0001   \n",
       "7                        BlackRock        0.0008      $59.67B     0.0002   \n",
       "8                         Vanguard        0.0014      $58.42B     0.0002   \n",
       "9                        BlackRock        0.0005      $55.99B     0.0001   \n",
       "10                       BlackRock        0.0007      $50.31B     0.0001   \n",
       "11                       BlackRock        0.0019      $49.66B     0.0001   \n",
       "12                       BlackRock        0.0014      $49.26B     0.0002   \n",
       "13                       BlackRock        0.0007      $46.75B     0.0001   \n",
       "14                       BlackRock         0.002      $44.54B     0.0001   \n",
       "15                        Vanguard        0.0005      $44.43B     0.0001   \n",
       "16                        Vanguard        0.0005      $38.18B     0.0002   \n",
       "17                       BlackRock         0.002      $37.62B     0.0001   \n",
       "18                        Vanguard        0.0005      $36.02B     0.0001   \n",
       "19                       BlackRock        0.0015      $34.03B     0.0001   \n",
       "20    State Street Global Advisors        0.0013      $31.70B     0.0004   \n",
       "21                        Vanguard        0.0012      $31.27B     0.0001   \n",
       "22                       BlackRock        0.0069      $31.16B     0.0002   \n",
       "23                        Vanguard        0.0008      $30.69B     0.0002   \n",
       "24    State Street Global Advisors         0.004      $28.28B     0.0001   \n",
       "25                        Vanguard        0.0007      $25.83B     0.0001   \n",
       "26                        Vanguard        0.0005      $25.37B     0.0003   \n",
       "27                        Vanguard        0.0005      $25.13B     0.0003   \n",
       "28                       BlackRock         0.002      $23.88B     0.0001   \n",
       "29                        Vanguard        0.0011      $23.02B     0.0002   \n",
       "...                            ...           ...          ...        ...   \n",
       "1616                    WisdomTree        0.0018       $4.91M     0.0052   \n",
       "1617                    WisdomTree        0.0038      $10.08M     0.0057   \n",
       "1618                    WisdomTree        0.0043      $13.14M     0.0057   \n",
       "1619                    WisdomTree        0.0043      $19.41M     0.0018   \n",
       "1620                    WisdomTree        0.0055      $14.47M     0.0013   \n",
       "1621                    WisdomTree        0.0038       $2.51M     0.0014   \n",
       "1622                    WisdomTree        0.0048      $34.12M     0.0024   \n",
       "1623                    WisdomTree        0.0043      $14.35M     0.0012   \n",
       "1624                    WisdomTree        0.0088      $17.23M     0.0106   \n",
       "1625                    WisdomTree        0.0028      $30.68M     0.0049   \n",
       "1626                    WisdomTree        0.0038      $39.17M     0.0015   \n",
       "1627                    WisdomTree        0.0012      $29.20M     0.0025   \n",
       "1628                          ALPS        0.0075      $22.87M     0.0074   \n",
       "1629                 Deutsche Bank         0.003       $4.98M     0.0015   \n",
       "1630                 Deutsche Bank        0.0025       $4.88M      0.002   \n",
       "1631                 Deutsche Bank        0.0045       $8.66M     0.0038   \n",
       "1632                 Deutsche Bank        0.0009       $2.33M     0.0014   \n",
       "1633                 Deutsche Bank         0.005       $6.36M     0.0019   \n",
       "1634                 Deutsche Bank        0.0009       $2.23M     0.0014   \n",
       "1635                 Deutsche Bank        0.0065      $22.58M     0.0022   \n",
       "1636                 Deutsche Bank        0.0035       $4.61M     0.0045   \n",
       "1637                 Deutsche Bank        0.0025       $9.62M     0.0038   \n",
       "1638                 Deutsche Bank        0.0009      $18.99M     0.0021   \n",
       "1639                 Deutsche Bank         0.005      $29.40M     0.0014   \n",
       "1640                 Deutsche Bank         0.002      $30.33M      0.002   \n",
       "1641                 Deutsche Bank         0.006       $4.21M     0.0054   \n",
       "1642                 Deutsche Bank        0.0045      $41.63M     0.0016   \n",
       "1643                 Deutsche Bank        0.0045      $31.31M     0.0019   \n",
       "1644                 Deutsche Bank        0.0058      $13.20M     0.0053   \n",
       "1645                 Deutsche Bank        0.0045       $2.20M     0.0056   \n",
       "\n",
       "                                                Segment       date      Open  \\\n",
       "0                              Equity: U.S. - Large Cap 2018-10-03  292.7400   \n",
       "1                              Equity: U.S. - Large Cap 2018-10-03  294.9200   \n",
       "2                           Equity: U.S. - Total Market 2018-10-03  150.2600   \n",
       "3                              Equity: U.S. - Large Cap 2018-10-03  269.0200   \n",
       "4                              Equity: U.S. - Large Cap 2018-10-03  186.5200   \n",
       "5      Equity: Developed Markets Ex-U.S. - Total Market 2018-10-03   43.1900   \n",
       "6      Equity: Developed Markets Ex-U.S. - Total Market 2018-10-03   67.8400   \n",
       "7      Equity: Developed Markets Ex-U.S. - Total Market 2018-10-03   64.0100   \n",
       "8               Equity: Emerging Markets - Total Market 2018-10-03   40.9400   \n",
       "9     Fixed Income: U.S. - Broad Market Investment G... 2018-10-03  105.2200   \n",
       "10                               Equity: U.S. - Mid Cap 2018-10-03  199.7900   \n",
       "11                             Equity: U.S. - Small Cap 2018-10-03  165.1800   \n",
       "12              Equity: Emerging Markets - Total Market 2018-10-03   51.5200   \n",
       "13                             Equity: U.S. - Small Cap 2018-10-03   85.3500   \n",
       "14                      Equity: U.S. - Large Cap Growth 2018-10-03  156.5000   \n",
       "15                       Equity: U.S. - Large Cap Value 2018-10-03  111.8700   \n",
       "16                      Equity: U.S. - Large Cap Growth 2018-10-03  161.5700   \n",
       "17                       Equity: U.S. - Large Cap Value 2018-10-03  127.7700   \n",
       "18    Fixed Income: U.S. - Broad Market Investment G... 2018-10-03   78.4000   \n",
       "19      Fixed Income: U.S. - Corporate Investment Grade 2018-10-03  114.4100   \n",
       "20                              Equity: U.S. Financials 2018-10-03   27.8700   \n",
       "21                             Equity: U.S. Real Estate 2018-10-03   79.7500   \n",
       "22              Equity: Emerging Markets - Total Market 2018-10-03   42.6900   \n",
       "23                          Equity: U.S. - Total Market 2018-10-03  111.2500   \n",
       "24                    Commodities: Precious Metals Gold 2018-10-03  113.8700   \n",
       "25    Fixed Income: U.S. - Government/Credit Investm... 2018-10-03   77.8600   \n",
       "26                               Equity: U.S. - Mid Cap 2018-10-03  163.8000   \n",
       "27                             Equity: U.S. - Small Cap 2018-10-03  160.3300   \n",
       "28                   Fixed Income: U.S. Government TIPS 2018-10-03  110.2500   \n",
       "29                Equity: Global Ex-U.S. - Total Market 2018-10-03   51.9500   \n",
       "...                                                 ...        ...       ...   \n",
       "1616  Fixed Income: U.S. - Corporate Investment Grad... 2018-10-03   48.9798   \n",
       "1617  Fixed Income: U.S. - Corporate High Yield Shor... 2018-10-03   50.3400   \n",
       "1618                         Equity: Global - Small Cap 2018-10-03   26.0600   \n",
       "1619                         Equity: Global - Small Cap 2018-10-03   31.9728   \n",
       "1620                          Equity: China - Large Cap 2018-10-03   26.0600   \n",
       "1621   Equity: Developed Markets Ex-U.S. - Total Market 2018-10-01   25.1200   \n",
       "1622                           Equity: Japan Financials 2018-10-03   25.2400   \n",
       "1623                       Equity: Japan - Total Market 2018-10-03   29.1300   \n",
       "1624  Equity: Frontier Middle East & Africa - Total ... 2018-10-03   19.1900   \n",
       "1625  Fixed Income: U.S. - Broad Market Investment G... 2018-10-03   44.0471   \n",
       "1626                        Equity: U.S. - Total Market 2018-10-03   86.8876   \n",
       "1627  Fixed Income: U.S. - Broad Market Investment G... 2018-10-03   48.7900   \n",
       "1628                      Equity: Global - Total Market 2018-10-03   38.1292   \n",
       "1629  Fixed Income: Global Ex-U.S. - Corporate Inves... 2018-10-03   49.8640   \n",
       "1630  Fixed Income: Global Ex-U.S. - Sovereign Inves... 2018-10-03   48.7200   \n",
       "1631         Fixed Income: Emerging Markets - Sovereign 2018-10-03   24.6000   \n",
       "1632            Equity: Developed Europe - Total Market 2018-10-03   22.7100   \n",
       "1633            Equity: Emerging Markets - Total Market 2018-10-03   24.8804   \n",
       "1634                     Equity: Germany - Total Market 2018-10-03   23.0300   \n",
       "1635                          Equity: China - Small Cap 2018-10-03   25.1750   \n",
       "1636          Fixed Income: U.S. - Corporate High Yield 2018-10-03   23.2700   \n",
       "1637    Fixed Income: U.S. - Corporate Investment Grade 2018-10-03   23.9188   \n",
       "1638                       Equity: Japan - Total Market 2018-10-03   29.4300   \n",
       "1639                       Equity: China - Total Market 2018-10-03   32.0640   \n",
       "1640       Equity: Global Ex-U.S. - High Dividend Yield 2018-10-03   25.0400   \n",
       "1641       Equity: Asia-Pacific Ex-Japan - Total Market 2018-10-03   27.6600   \n",
       "1642            Equity: Developed Europe - Total Market 2018-10-03   30.5010   \n",
       "1643                     Equity: Germany - Total Market 2018-10-03   26.8300   \n",
       "1644                 Equity: South Korea - Total Market 2018-10-03   28.5250   \n",
       "1645                        Equity: U.K. - Total Market 2018-10-03   21.8978   \n",
       "\n",
       "          High       Low  Previous Close    volume  1 Day return  \\\n",
       "0     293.2100  291.3200        291.7200  64694594        -0.160   \n",
       "1     295.4000  293.5100        293.9500   3473880        -0.200   \n",
       "2     150.4900  149.6500        149.8600   2564328        -0.200   \n",
       "3     269.4700  267.7200        268.2400   2505783        -0.230   \n",
       "4     186.9700  185.6600        185.9500  29128683        -0.200   \n",
       "5      43.1959   42.9721         43.0300   7127005         0.070   \n",
       "6      67.8800   67.5350         67.6000  19372348         0.120   \n",
       "7      64.0300   63.7000         63.7800   5560580         0.070   \n",
       "8      40.9400   40.2100         40.3200  16370649         0.340   \n",
       "9     105.2400  104.7500        104.8600   2540483         0.500   \n",
       "10    200.7090  199.0600        199.7500   1356126        -0.800   \n",
       "11    166.7300  164.5100        165.9700  26027249        -1.440   \n",
       "12     51.5500   50.6200         50.7800  13757746         0.400   \n",
       "13     86.1700   85.0300         85.7700   3912437        -0.750   \n",
       "14    156.7400  155.7700        156.0300   1393689        -0.210   \n",
       "15    112.0500  111.3500        111.5500   1220221        -0.140   \n",
       "16    161.7600  160.7800        160.9600    554009        -0.070   \n",
       "17    127.9600  127.2100        127.4000   2935767        -0.120   \n",
       "18     78.4000   78.0201         78.1100   2300493         0.400   \n",
       "19    114.5300  113.6550        113.8500   8400462         0.670   \n",
       "20     28.0700   27.7900         27.9500  79591391        -0.260   \n",
       "21     80.0200   78.4400         78.9000   7104307         0.850   \n",
       "22     42.7150   41.9200         42.0400  76571167         0.350   \n",
       "23    111.4200  110.4500        110.5600    593092         0.380   \n",
       "24    114.0500  113.2600        113.4200   6674517         0.450   \n",
       "25     77.8700   77.7500         77.7700   1188365         0.110   \n",
       "26    164.0000  163.1500        163.3700    506077        -0.310   \n",
       "27    161.2700  159.6900        160.6400    569113        -0.960   \n",
       "28    110.2800  109.7300        109.8400   2775777         0.530   \n",
       "29     51.9697   51.5716         51.6500   2048634         0.150   \n",
       "...        ...       ...             ...       ...           ...   \n",
       "1616   48.9798   48.9761         48.9761       300        -0.156   \n",
       "1617   50.3400   50.3400         50.3400         0        -0.000   \n",
       "1618   26.0600   26.0600         26.0600       300         0.030   \n",
       "1619   31.9728   31.7800         31.8300      1716         0.280   \n",
       "1620   26.0600   26.0002         26.0002      1914        -0.000   \n",
       "1621   25.1200   25.1200         25.1200         9        -0.000   \n",
       "1622   25.4730   25.2400         25.3800     15651         0.060   \n",
       "1623   29.1300   29.0690         29.0690     38664         0.051   \n",
       "1624   19.1900   18.9564         19.1700      8952        -0.370   \n",
       "1625   44.2000   44.0471         44.1900      3868        -0.380   \n",
       "1626   86.8876   86.8876         86.8876       304        -0.182   \n",
       "1627   48.7900   48.6501         48.7450     19364         0.075   \n",
       "1628   38.1800   38.1292         38.1800      1316        -0.116   \n",
       "1629   49.8640   49.8640         49.8640       125         0.084   \n",
       "1630   48.7200   48.7200         48.7200       274         0.120   \n",
       "1631   24.6000   24.6000         24.6000       100         0.120   \n",
       "1632   22.7100   22.7100         22.7100         0        -0.000   \n",
       "1633   24.8804   24.8804         24.8804        75        -0.000   \n",
       "1634   23.0300   23.0300         23.0300         0        -0.000   \n",
       "1635   25.1750   25.0000         25.0350      2238         0.085   \n",
       "1636   23.2700   23.2490         23.2639      4235        -0.009   \n",
       "1637   23.9299   23.7700         23.8000      2203         0.130   \n",
       "1638   29.4300   29.2974         29.2974     48561         0.243   \n",
       "1639   32.0640   31.8100         31.8100     20069         0.230   \n",
       "1640   25.1071   24.9800         24.9800      2421         0.015   \n",
       "1641   27.6600   27.6600         27.6600       220         0.110   \n",
       "1642   30.5450   30.5010         30.5450      1213        -0.115   \n",
       "1643   26.8401   26.8300         26.8401        33        -0.000   \n",
       "1644   28.5250   28.4733         28.4733       364         0.112   \n",
       "1645   21.8978   21.8978         21.8978       500        -0.038   \n",
       "\n",
       "      1 Week return  1 Month return  1 Year return  \n",
       "0            -1.840          -3.216        -43.380  \n",
       "1            -1.930          -3.268        -45.152  \n",
       "2            -0.623          -0.712        -21.720  \n",
       "3            -1.900          -3.088        -40.306  \n",
       "4            -1.680          -0.434        -41.171  \n",
       "5             0.670          -0.494         -0.767  \n",
       "6             1.090          -0.830         -1.691  \n",
       "7             1.080          -0.630         -1.275  \n",
       "8             0.820           0.310          2.815  \n",
       "9             0.448           0.947          1.600  \n",
       "10            0.780           3.375        -21.874  \n",
       "11            2.060           5.824        -18.048  \n",
       "12            1.080           0.470          1.752  \n",
       "13            1.100           3.866        -11.571  \n",
       "14           -0.870          -0.975        -32.054  \n",
       "15           -0.811          -1.656        -13.293  \n",
       "16           -0.865          -0.875        -29.218  \n",
       "17           -0.780          -1.272        -11.107  \n",
       "18            0.347           0.716          1.434  \n",
       "19            0.658           0.678          2.842  \n",
       "20            0.020           0.395         -2.220  \n",
       "21            0.320           3.003          0.052  \n",
       "22            0.960           0.290          1.855  \n",
       "23            0.020          -1.888        -17.112  \n",
       "24           -0.370          -0.490          7.410  \n",
       "25            0.086           0.245          0.347  \n",
       "26            0.475           1.441        -17.810  \n",
       "27            1.035           3.993        -19.730  \n",
       "28            0.689           1.608         -0.374  \n",
       "29            0.830          -0.457         -0.145  \n",
       "...             ...             ...            ...  \n",
       "1616         -0.146          -0.281         -0.230  \n",
       "1617         -0.090          -0.051         -3.241  \n",
       "1618          0.430           0.652         -0.869  \n",
       "1619          0.500           0.603         -0.508  \n",
       "1620          0.700           0.244            NaN  \n",
       "1621         -0.510          -0.520            NaN  \n",
       "1622          0.080          -1.479         -1.531  \n",
       "1623         -0.089          -1.809         -2.595  \n",
       "1624         -0.400          -0.223         -2.271  \n",
       "1625         -0.126          -0.898         -2.026  \n",
       "1626          0.805          -0.231            NaN  \n",
       "1627          0.025           0.065          0.116  \n",
       "1628         -0.017          -0.340         -3.822  \n",
       "1629         -0.058           0.083         -0.842  \n",
       "1630          0.018           0.190         -0.650  \n",
       "1631         -0.069          -0.486         -0.429  \n",
       "1632          0.640          -0.000          0.876  \n",
       "1633          0.160          -0.151          0.877  \n",
       "1634         -0.000          -0.000          0.493  \n",
       "1635          0.755           0.872         12.125  \n",
       "1636          0.127          -0.262         -1.354  \n",
       "1637         -0.077          -0.147         -0.226  \n",
       "1638          0.383          -1.276         -2.446  \n",
       "1639          1.190           0.550          4.448  \n",
       "1640          0.200          -0.434          0.057  \n",
       "1641          0.450           0.980         -0.853  \n",
       "1642          0.165          -0.315         -0.542  \n",
       "1643          0.180           0.010          0.626  \n",
       "1644          0.347           0.127          0.084  \n",
       "1645         -0.863           0.142         -2.528  \n",
       "\n",
       "[1646 rows x 17 columns], row_groups=10, scales={'color': ColorScale(scheme='Portland')}, title='ETF Market Map', tooltip_fields=['Fund Name', 'Segment', 'Expense Ratio', 'Total Assets', 'Previous Close', '1 Day return', '1 Week return', '1 Month return', '1 Year return']), Figure(axes=[Axis(grid_lines='dashed', label='Date', scale=DateScale()), Axis(grid_lines='dashed', label='Price (USD)', orientation='vertical', scale=LinearScale())], fig_margin={'top': 60, 'bottom': 60, 'left': 60, 'right': 60}, layout=Layout(height='600px', width='88%'), marks=[Lines(colors=['black'], interactions={'hover': 'tooltip'}, scales={'x': DateScale(), 'y': LinearScale()}, scales_metadata={'x': {'orientation': 'horizontal', 'dimension': 'x'}, 'y': {'orientation': 'vertical', 'dimension': 'y'}, 'color': {'dimension': 'color'}}, tooltip_style={'opacity': 0.9}, x=array(['2018-06-01T00:00:00.000000000', '2018-06-04T00:00:00.000000000',\n",
       "       '2018-06-05T00:00:00.000000000', '2018-06-06T00:00:00.000000000',\n",
       "       '2018-06-07T00:00:00.000000000', '2018-06-08T00:00:00.000000000',\n",
       "       '2018-06-11T00:00:00.000000000', '2018-06-12T00:00:00.000000000',\n",
       "       '2018-06-13T00:00:00.000000000', '2018-06-14T00:00:00.000000000',\n",
       "       '2018-06-15T00:00:00.000000000', '2018-06-18T00:00:00.000000000',\n",
       "       '2018-06-19T00:00:00.000000000', '2018-06-20T00:00:00.000000000',\n",
       "       '2018-06-21T00:00:00.000000000', '2018-06-22T00:00:00.000000000',\n",
       "       '2018-06-25T00:00:00.000000000', '2018-06-26T00:00:00.000000000',\n",
       "       '2018-06-27T00:00:00.000000000', '2018-06-28T00:00:00.000000000',\n",
       "       '2018-06-29T00:00:00.000000000', '2018-07-02T00:00:00.000000000',\n",
       "       '2018-07-03T00:00:00.000000000', '2018-07-05T00:00:00.000000000',\n",
       "       '2018-07-06T00:00:00.000000000', '2018-07-09T00:00:00.000000000',\n",
       "       '2018-07-10T00:00:00.000000000', '2018-07-11T00:00:00.000000000',\n",
       "       '2018-07-12T00:00:00.000000000', '2018-07-13T00:00:00.000000000',\n",
       "       '2018-07-16T00:00:00.000000000', '2018-07-17T00:00:00.000000000',\n",
       "       '2018-07-18T00:00:00.000000000', '2018-07-19T00:00:00.000000000',\n",
       "       '2018-07-20T00:00:00.000000000', '2018-07-23T00:00:00.000000000',\n",
       "       '2018-07-24T00:00:00.000000000', '2018-07-25T00:00:00.000000000',\n",
       "       '2018-07-26T00:00:00.000000000', '2018-07-27T00:00:00.000000000',\n",
       "       '2018-07-30T00:00:00.000000000', '2018-07-31T00:00:00.000000000',\n",
       "       '2018-08-01T00:00:00.000000000', '2018-08-02T00:00:00.000000000',\n",
       "       '2018-08-03T00:00:00.000000000', '2018-08-06T00:00:00.000000000',\n",
       "       '2018-08-07T00:00:00.000000000', '2018-08-08T00:00:00.000000000',\n",
       "       '2018-08-09T00:00:00.000000000', '2018-08-10T00:00:00.000000000',\n",
       "       '2018-08-13T00:00:00.000000000', '2018-08-14T00:00:00.000000000',\n",
       "       '2018-08-15T00:00:00.000000000', '2018-08-16T00:00:00.000000000',\n",
       "       '2018-08-17T00:00:00.000000000', '2018-08-20T00:00:00.000000000',\n",
       "       '2018-08-21T00:00:00.000000000', '2018-08-22T00:00:00.000000000',\n",
       "       '2018-08-23T00:00:00.000000000', '2018-08-24T00:00:00.000000000',\n",
       "       '2018-08-27T00:00:00.000000000', '2018-08-28T00:00:00.000000000',\n",
       "       '2018-08-29T00:00:00.000000000', '2018-08-30T00:00:00.000000000',\n",
       "       '2018-08-31T00:00:00.000000000', '2018-09-04T00:00:00.000000000',\n",
       "       '2018-09-05T00:00:00.000000000', '2018-09-06T00:00:00.000000000',\n",
       "       '2018-09-07T00:00:00.000000000', '2018-09-10T00:00:00.000000000',\n",
       "       '2018-09-11T00:00:00.000000000', '2018-09-12T00:00:00.000000000',\n",
       "       '2018-09-13T00:00:00.000000000', '2018-09-14T00:00:00.000000000',\n",
       "       '2018-09-17T00:00:00.000000000', '2018-09-18T00:00:00.000000000',\n",
       "       '2018-09-19T00:00:00.000000000', '2018-09-20T00:00:00.000000000',\n",
       "       '2018-09-21T00:00:00.000000000', '2018-09-24T00:00:00.000000000',\n",
       "       '2018-09-25T00:00:00.000000000', '2018-09-26T00:00:00.000000000',\n",
       "       '2018-09-27T00:00:00.000000000', '2018-09-28T00:00:00.000000000',\n",
       "       '2018-10-01T00:00:00.000000000', '2018-10-02T00:00:00.000000000',\n",
       "       '2018-10-03T00:00:00.000000000'], dtype='datetime64[ns]')), Lines(colors=['orange'], interactions={'hover': 'tooltip'}, scales={'x': DateScale(), 'y': LinearScale()}, scales_metadata={'x': {'orientation': 'horizontal', 'dimension': 'x'}, 'y': {'orientation': 'vertical', 'dimension': 'y'}, 'color': {'dimension': 'color'}}, tooltip_style={'opacity': 0.9}, x=array(['2018-09-05', '2018-09-06', '2018-09-07', '2018-09-10',\n",
       "       '2018-09-11', '2018-09-12', '2018-09-13', '2018-09-14',\n",
       "       '2018-09-17', '2018-09-18', '2018-09-19', '2018-09-20',\n",
       "       '2018-09-21', '2018-09-24', '2018-09-25', '2018-09-26',\n",
       "       '2018-09-27', '2018-09-28', '2018-10-01', '2018-10-02'],\n",
       "      dtype=object))], scale_x=LinearScale(allow_padding=False, max=1.0, min=0.0), scale_y=LinearScale(allow_padding=False, max=1.0, min=0.0))))"
      ]
     },
     "metadata": {},
     "output_type": "display_data"
    }
   ],
   "source": [
    "col = ColorScale(scheme='Portland')\n",
    "segments = mapframe_y['Segment'].values\n",
    "market_map1 = MarketMap(names=etf_list,      \n",
    "                       # basic data which needs to set for each map\n",
    "                       ref_data=mapframe_y, groups=segments, \n",
    "                       cols=50, row_groups=10,\n",
    "                       # Data frame which can be used for different properties of the map\n",
    "                       # Axis and scale for color data\n",
    "                       tooltip_fields=['Fund Name', 'Segment', 'Expense Ratio', 'Total Assets', 'Previous Close', '1 Day return', '1 Week return', '1 Month return', '1 Year return'],\n",
    "                       scales={'color': col},\n",
    "                       layout={'min_width': '1400px', 'min_height': '1000px'})\n",
    "# market_map1.color = ['1day_change']\n",
    "market_map1.font_style = {'font-size': '8px', 'fill':'black'}\n",
    "market_map1.title = 'ETF Market Map'\n",
    "\n",
    "selector = Dropdown(options=['Segment', '1 Day return', '1 Week return', '1 Month return', '1 Year return'], value='Segment', description='Color By:', disabled=False,)\n",
    "\n",
    "sc_x = DateScale()\n",
    "sc_y = LinearScale()\n",
    "ax_x = Axis(scale=sc_x, grid_lines='dashed', label='Date')\n",
    "ax_y = Axis(scale=sc_y, orientation='vertical', grid_lines='dashed', label='Price (USD)')\n",
    "line = Lines(x= mapframe_daily_close['06-2018':].index.values, y=[], scales={'x': sc_x, 'y': sc_y}, colors=['black'])\n",
    "linep = Lines(x= mapframe_preds.index.values, y=[], scales={'x': sc_x, 'y': sc_y}, colors=['orange'])\n",
    "\n",
    "ts_output = Figure(marks=[line, linep], axes=[ax_x, ax_y], layout=Layout(width='88%', height='600px'))\n",
    "def on_change(change):\n",
    "    if change['type'] == 'change' and change['name'] == 'value':\n",
    "        market_map1.color = mapframe_y[change['new']]\n",
    "        market_map1.axes = [ColorAxis(scale=col, label=change['new'], visible=True)]\n",
    "        \n",
    "def on_box_change(change):\n",
    "    line.y = mapframe_daily_close[change['new'][-1]]['06-2018':]\n",
    "    linep.y = mapframe_preds[change['new'][-1]]\n",
    "    ts_output.title = '{} Price 2018'.format(change['new'][-1])\n",
    "    \n",
    "selector.observe(on_change)\n",
    "market_map1.observe(on_box_change, 'selected')\n",
    "first_page = VBox([selector, market_map1, ts_output])\n",
    "first_page"
   ]
  },
  {
   "cell_type": "code",
   "execution_count": null,
   "metadata": {
    "extensions": {
     "jupyter_dashboards": {
      "version": 1,
      "views": {
       "grid_default": {},
       "report_default": {
        "hidden": true
       }
      }
     }
    }
   },
   "outputs": [],
   "source": []
  }
 ],
 "metadata": {
  "extensions": {
   "jupyter_dashboards": {
    "activeView": "report_default",
    "version": 1,
    "views": {
     "grid_default": {
      "cellMargin": 10,
      "defaultCellHeight": 20,
      "maxColumns": 12,
      "name": "grid",
      "type": "grid"
     },
     "report_default": {
      "name": "report",
      "type": "report"
     }
    }
   }
  },
  "kernelspec": {
   "display_name": "Python 3",
   "language": "python",
   "name": "python3"
  },
  "language_info": {
   "codemirror_mode": {
    "name": "ipython",
    "version": 3
   },
   "file_extension": ".py",
   "mimetype": "text/x-python",
   "name": "python",
   "nbconvert_exporter": "python",
   "pygments_lexer": "ipython3",
   "version": "3.6.6"
  }
 },
 "nbformat": 4,
 "nbformat_minor": 2
}
